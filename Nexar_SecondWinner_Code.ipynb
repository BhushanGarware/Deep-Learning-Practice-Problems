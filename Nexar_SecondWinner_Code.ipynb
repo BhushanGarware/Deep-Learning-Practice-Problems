{
 "cells": [
  {
   "cell_type": "markdown",
   "metadata": {},
   "source": [
    "# Nexar’s Deep Learning Challenge\n",
    "### Solution of 2nd Winner [Guy Hadash](https://github.com/mynameisguy/TrafficLightChallenge-DeepLearning-Nexar)\n",
    "\n",
    "* Run this notebook from the directory where you have downloaded the Git repo of Guy."
   ]
  },
  {
   "cell_type": "code",
   "execution_count": 15,
   "metadata": {
    "collapsed": false
   },
   "outputs": [],
   "source": [
    "import os\n",
    "from keras.preprocessing.image import load_img, img_to_array\n",
    "import numpy as np\n",
    "import keras.backend as K\n",
    "import keras\n",
    "from keras.models import Model\n",
    "from keras.layers import Input, Activation, merge\n",
    "from keras.layers import Flatten, Dropout\n",
    "from keras.layers import Convolution2D, MaxPooling2D\n",
    "from keras.layers import AveragePooling2D\n",
    "from keras.optimizers import Adam\n"
   ]
  },
  {
   "cell_type": "markdown",
   "metadata": {},
   "source": [
    "Below line is just to get rid of warnings "
   ]
  },
  {
   "cell_type": "code",
   "execution_count": 16,
   "metadata": {
    "collapsed": true
   },
   "outputs": [],
   "source": [
    "import warnings\n",
    "warnings.filterwarnings('ignore')"
   ]
  },
  {
   "cell_type": "code",
   "execution_count": 17,
   "metadata": {
    "collapsed": true
   },
   "outputs": [],
   "source": [
    "IMAGE_WIDTH = 224\n",
    "IMAGE_HEIGHT = 224"
   ]
  },
  {
   "cell_type": "markdown",
   "metadata": {},
   "source": [
    "### This is how the model is designed in keras "
   ]
  },
  {
   "cell_type": "code",
   "execution_count": 18,
   "metadata": {
    "collapsed": true
   },
   "outputs": [],
   "source": [
    "def SqueezeNet(nb_classes, inputs=(224, 224, 3)):\n",
    "    \"\"\" Keras Implementation of SqueezeNet(arXiv 1602.07360)\n",
    "\n",
    "    @param nb_classes: total number of final categories\n",
    "\n",
    "    Arguments:\n",
    "    inputs -- shape of the input images (channel, cols, rows)\n",
    "\n",
    "    \"\"\"\n",
    "\n",
    "    input_img = Input(shape=inputs)\n",
    "    conv1 = Convolution2D(\n",
    "        96, 7, 7, activation='relu', init='glorot_uniform',\n",
    "        subsample=(2, 2), border_mode='same', name='conv1')(input_img)\n",
    "    maxpool1 = MaxPooling2D(\n",
    "        pool_size=(3, 3), strides=(2, 2), name='maxpool1')(conv1)\n",
    "\n",
    "    fire2_squeeze = Convolution2D(\n",
    "        16, 1, 1, activation='relu', init='glorot_uniform',\n",
    "        border_mode='same', name='fire2_squeeze')(maxpool1)\n",
    "    fire2_expand1 = Convolution2D(\n",
    "        64, 1, 1, activation='relu', init='glorot_uniform',\n",
    "        border_mode='same', name='fire2_expand1')(fire2_squeeze)\n",
    "    fire2_expand2 = Convolution2D(\n",
    "        64, 3, 3, activation='relu', init='glorot_uniform',\n",
    "        border_mode='same', name='fire2_expand2')(fire2_squeeze)\n",
    "    merge2 = merge(\n",
    "        [fire2_expand1, fire2_expand2], mode='concat', concat_axis=-1)\n",
    "\n",
    "    fire3_squeeze = Convolution2D(\n",
    "        16, 1, 1, activation='relu', init='glorot_uniform',\n",
    "        border_mode='same', name='fire3_squeeze')(merge2)\n",
    "    fire3_expand1 = Convolution2D(\n",
    "        64, 1, 1, activation='relu', init='glorot_uniform',\n",
    "        border_mode='same', name='fire3_expand1')(fire3_squeeze)\n",
    "    fire3_expand2 = Convolution2D(\n",
    "        64, 3, 3, activation='relu', init='glorot_uniform',\n",
    "        border_mode='same', name='fire3_expand2')(fire3_squeeze)\n",
    "    merge3 = merge(\n",
    "        [fire3_expand1, fire3_expand2], mode='concat', concat_axis=-1)\n",
    "\n",
    "    fire4_squeeze = Convolution2D(\n",
    "        32, 1, 1, activation='relu', init='glorot_uniform',\n",
    "        border_mode='same', name='fire4_squeeze')(merge3)\n",
    "    fire4_expand1 = Convolution2D(\n",
    "        128, 1, 1, activation='relu', init='glorot_uniform',\n",
    "        border_mode='same', name='fire4_expand1')(fire4_squeeze)\n",
    "    fire4_expand2 = Convolution2D(\n",
    "        128, 3, 3, activation='relu', init='glorot_uniform',\n",
    "        border_mode='same', name='fire4_expand2')(fire4_squeeze)\n",
    "    merge4 = merge(\n",
    "        [fire4_expand1, fire4_expand2], mode='concat', concat_axis=-1)\n",
    "    maxpool4 = MaxPooling2D(\n",
    "        pool_size=(3, 3), strides=(2, 2), name='maxpool4')(merge4)\n",
    "\n",
    "    fire5_squeeze = Convolution2D(\n",
    "        32, 1, 1, activation='relu', init='glorot_uniform',\n",
    "        border_mode='same', name='fire5_squeeze')(maxpool4)\n",
    "    fire5_expand1 = Convolution2D(\n",
    "        128, 1, 1, activation='relu', init='glorot_uniform',\n",
    "        border_mode='same', name='fire5_expand1')(fire5_squeeze)\n",
    "    fire5_expand2 = Convolution2D(\n",
    "        128, 3, 3, activation='relu', init='glorot_uniform',\n",
    "        border_mode='same', name='fire5_expand2')(fire5_squeeze)\n",
    "    merge5 = merge(\n",
    "        [fire5_expand1, fire5_expand2], mode='concat', concat_axis=-1)\n",
    "\n",
    "    fire6_squeeze = Convolution2D(\n",
    "        48, 1, 1, activation='relu', init='glorot_uniform',\n",
    "        border_mode='same', name='fire6_squeeze')(merge5)\n",
    "    fire6_expand1 = Convolution2D(\n",
    "        192, 1, 1, activation='relu', init='glorot_uniform',\n",
    "        border_mode='same', name='fire6_expand1')(fire6_squeeze)\n",
    "    fire6_expand2 = Convolution2D(\n",
    "        192, 3, 3, activation='relu', init='glorot_uniform',\n",
    "        border_mode='same', name='fire6_expand2')(fire6_squeeze)\n",
    "    merge6 = merge(\n",
    "        [fire6_expand1, fire6_expand2], mode='concat', concat_axis=-1)\n",
    "\n",
    "    fire7_squeeze = Convolution2D(\n",
    "        48, 1, 1, activation='relu', init='glorot_uniform',\n",
    "        border_mode='same', name='fire7_squeeze')(merge6)\n",
    "    fire7_expand1 = Convolution2D(\n",
    "        192, 1, 1, activation='relu', init='glorot_uniform',\n",
    "        border_mode='same', name='fire7_expand1')(fire7_squeeze)\n",
    "    fire7_expand2 = Convolution2D(\n",
    "        192, 3, 3, activation='relu', init='glorot_uniform',\n",
    "        border_mode='same', name='fire7_expand2')(fire7_squeeze)\n",
    "    merge7 = merge(\n",
    "        [fire7_expand1, fire7_expand2], mode='concat', concat_axis=-1)\n",
    "\n",
    "    fire8_squeeze = Convolution2D(\n",
    "        64, 1, 1, activation='relu', init='glorot_uniform',\n",
    "        border_mode='same', name='fire8_squeeze')(merge7)\n",
    "    fire8_expand1 = Convolution2D(\n",
    "        256, 1, 1, activation='relu', init='glorot_uniform',\n",
    "        border_mode='same', name='fire8_expand1')(fire8_squeeze)\n",
    "    fire8_expand2 = Convolution2D(\n",
    "        256, 3, 3, activation='relu', init='glorot_uniform',\n",
    "        border_mode='same', name='fire8_expand2')(fire8_squeeze)\n",
    "    merge8 = merge(\n",
    "        [fire8_expand1, fire8_expand2], mode='concat', concat_axis=-1)\n",
    "\n",
    "    maxpool8 = MaxPooling2D(\n",
    "        pool_size=(3, 3), strides=(2, 2), name='maxpool8')(merge8)\n",
    "\n",
    "    fire9_squeeze = Convolution2D(\n",
    "        64, 1, 1, activation='relu', init='glorot_uniform',\n",
    "        border_mode='same', name='fire9_squeeze')(maxpool8)\n",
    "    fire9_expand1 = Convolution2D(\n",
    "        256, 1, 1, activation='relu', init='glorot_uniform',\n",
    "        border_mode='same', name='fire9_expand1')(fire9_squeeze)\n",
    "    fire9_expand2 = Convolution2D(\n",
    "        256, 3, 3, activation='relu', init='glorot_uniform',\n",
    "        border_mode='same', name='fire9_expand2')(fire9_squeeze)\n",
    "    merge9 = merge(\n",
    "        [fire9_expand1, fire9_expand2], mode='concat', concat_axis=-1)\n",
    "\n",
    "    fire9_dropout = Dropout(0.5, name='fire9_dropout')(merge9)\n",
    "    conv10 = Convolution2D(\n",
    "        nb_classes, 1, 1, init='glorot_uniform',\n",
    "        border_mode='valid', name='conv10')(fire9_dropout)\n",
    "    # The size should match the output of conv10\n",
    "\n",
    "    avgpool10 = AveragePooling2D((13, 13), name='avgpool10')(conv10)\n",
    "    flatten = Flatten(name='flatten')(avgpool10)\n",
    "    softmax = Activation(\"softmax\", name='softmax')(flatten)\n",
    "\n",
    "    return Model(input=input_img, output=softmax)\n"
   ]
  },
  {
   "cell_type": "markdown",
   "metadata": {},
   "source": [
    "Path for the test image"
   ]
  },
  {
   "cell_type": "code",
   "execution_count": 19,
   "metadata": {
    "collapsed": true
   },
   "outputs": [],
   "source": [
    "TEST_FOLDER=\"./test\"\n",
    "K.set_image_dim_ordering('tf')"
   ]
  },
  {
   "cell_type": "code",
   "execution_count": 20,
   "metadata": {
    "collapsed": false
   },
   "outputs": [],
   "source": [
    "model = SqueezeNet(3, (IMAGE_HEIGHT, IMAGE_WIDTH, 3))\n",
    "model.load_weights(\"./trained_model/challenge1.weights\")"
   ]
  },
  {
   "cell_type": "code",
   "execution_count": 41,
   "metadata": {
    "collapsed": true
   },
   "outputs": [],
   "source": [
    "filepath=\"./Test4.jpg\""
   ]
  },
  {
   "cell_type": "code",
   "execution_count": 42,
   "metadata": {
    "collapsed": true
   },
   "outputs": [],
   "source": [
    "image = load_img(filepath, target_size=(224, 224))\n",
    "image = img_to_array(image)\n",
    "image /= 255.0\n",
    "image = np.expand_dims(image, axis=0)\n"
   ]
  },
  {
   "cell_type": "code",
   "execution_count": 43,
   "metadata": {
    "collapsed": false
   },
   "outputs": [],
   "source": [
    "preds = model.predict(image)[0]"
   ]
  },
  {
   "cell_type": "code",
   "execution_count": 44,
   "metadata": {
    "collapsed": false
   },
   "outputs": [
    {
     "data": {
      "text/plain": [
       "array([  2.43827287e-07,   1.48643658e-03,   9.98513281e-01], dtype=float32)"
      ]
     },
     "execution_count": 44,
     "metadata": {},
     "output_type": "execute_result"
    }
   ],
   "source": [
    "preds"
   ]
  },
  {
   "cell_type": "code",
   "execution_count": null,
   "metadata": {
    "collapsed": true
   },
   "outputs": [],
   "source": []
  }
 ],
 "metadata": {
  "anaconda-cloud": {},
  "kernelspec": {
   "display_name": "Python [conda root]",
   "language": "python",
   "name": "conda-root-py"
  },
  "language_info": {
   "codemirror_mode": {
    "name": "ipython",
    "version": 2
   },
   "file_extension": ".py",
   "mimetype": "text/x-python",
   "name": "python",
   "nbconvert_exporter": "python",
   "pygments_lexer": "ipython2",
   "version": "2.7.12"
  }
 },
 "nbformat": 4,
 "nbformat_minor": 1
}
